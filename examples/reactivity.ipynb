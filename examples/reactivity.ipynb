{
 "cells": [
  {
   "cell_type": "markdown",
   "id": "f954d91f-8950-45f1-b515-2ea635bf4de5",
   "metadata": {},
   "source": [
    "## Reactivity"
   ]
  },
  {
   "cell_type": "markdown",
   "id": "c712e1d4-26ee-4f67-abe7-acf584756013",
   "metadata": {},
   "source": [
    "#### Using operators"
   ]
  },
  {
   "cell_type": "code",
   "execution_count": null,
   "id": "ac6f2cd2-8081-420e-a8b1-5c324c8c6c0e",
   "metadata": {},
   "outputs": [],
   "source": [
    "a = b + 1\n",
    "a"
   ]
  },
  {
   "cell_type": "code",
   "execution_count": null,
   "id": "247f25c7-438b-4590-8a9a-b8700601af56",
   "metadata": {},
   "outputs": [],
   "source": [
    "b"
   ]
  },
  {
   "cell_type": "code",
   "execution_count": null,
   "id": "e3021220-6a09-4ed6-9544-670b5a0826d7",
   "metadata": {},
   "outputs": [],
   "source": [
    "b = 0"
   ]
  },
  {
   "cell_type": "code",
   "execution_count": null,
   "id": "94bc7b3b-4670-494c-ae3c-b357395c7120",
   "metadata": {},
   "outputs": [],
   "source": [
    "b = 1"
   ]
  },
  {
   "cell_type": "code",
   "execution_count": null,
   "id": "f9a4d072-ebfe-4996-8dc9-88bce1e955b5",
   "metadata": {},
   "outputs": [],
   "source": [
    "b = 2"
   ]
  },
  {
   "cell_type": "markdown",
   "id": "c7efab28-3fe6-400b-acc1-b85dd7404083",
   "metadata": {},
   "source": [
    "#### Using functions"
   ]
  },
  {
   "cell_type": "code",
   "execution_count": null,
   "id": "caddbba0-1143-4bd3-be2f-c0391215f4db",
   "metadata": {},
   "outputs": [],
   "source": [
    "from math import sin, cos, pi"
   ]
  },
  {
   "cell_type": "code",
   "execution_count": null,
   "id": "7110df10-7246-4a81-acce-678ca13334ad",
   "metadata": {},
   "outputs": [],
   "source": [
    "y = sin(x) + cos(x)\n",
    "y"
   ]
  },
  {
   "cell_type": "code",
   "execution_count": null,
   "id": "968e843d-059a-4c47-97db-89cac2b03fad",
   "metadata": {},
   "outputs": [],
   "source": [
    "x"
   ]
  },
  {
   "cell_type": "code",
   "execution_count": null,
   "id": "bc53ad4f-bee4-47f7-8a75-9f6c37df8f6a",
   "metadata": {},
   "outputs": [],
   "source": [
    "x = 0"
   ]
  },
  {
   "cell_type": "code",
   "execution_count": null,
   "id": "ec322d38-010d-42da-91d0-3b949ac5e73c",
   "metadata": {},
   "outputs": [],
   "source": [
    "x = pi / 2"
   ]
  },
  {
   "cell_type": "code",
   "execution_count": null,
   "id": "527108f8-fb53-4512-a4dc-9450352a88bf",
   "metadata": {},
   "outputs": [],
   "source": [
    "x = pi"
   ]
  },
  {
   "cell_type": "code",
   "execution_count": null,
   "id": "0474edce-a12a-48c5-b9e6-f318bbb5deca",
   "metadata": {},
   "outputs": [],
   "source": [
    "x = 3 * pi / 2"
   ]
  },
  {
   "cell_type": "code",
   "execution_count": null,
   "id": "bb9f8726-b98b-41ff-8c95-8b1ab3c4bbe5",
   "metadata": {},
   "outputs": [],
   "source": [
    "x = 2 * pi"
   ]
  }
 ],
 "metadata": {
  "kernelspec": {
   "display_name": "Python 3 (akernel-react)",
   "language": "python",
   "name": "akernel"
  },
  "language_info": {
   "file_extension": ".py",
   "mimetype": "text/x-python",
   "name": "python",
   "version": "3.9.6"
  }
 },
 "nbformat": 4,
 "nbformat_minor": 5
}
